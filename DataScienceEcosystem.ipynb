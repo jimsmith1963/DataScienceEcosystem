{
 "cells": [
  {
   "cell_type": "markdown",
   "id": "ebde46f4-a9f4-412f-825f-c380d90fd80e",
   "metadata": {},
   "source": [
    "# Data Science Tools and Ecosystem\n",
    "In this notebook, Data Science Tools and Ecosystem are summarized."
   ]
  },
  {
   "cell_type": "markdown",
   "id": "71fd5a73-17aa-4de6-ae8d-232f82ea3ace",
   "metadata": {},
   "source": [
    "**Objectives**\n",
    "- List Popular Languages for Data Science\n",
    "- List Commonly Used Libraries in Data Science\n",
    "- List Some Data Science Tools"
   ]
  },
  {
   "cell_type": "markdown",
   "id": "1c38b274-ac53-406c-a12d-b7f232b97a71",
   "metadata": {},
   "source": [
    "# Some of the popular languages that Data Scientists use are:\n",
    "1) Python\n",
    "2) R\n",
    "3) Java\n",
    "4) Julia\n",
    "5) Scala"
   ]
  },
  {
   "cell_type": "markdown",
   "id": "7f1b09fb-c20d-4464-957c-19e02ca9ff4a",
   "metadata": {},
   "source": [
    "# Some of the commonly used libraries used by Data Scientists include:\n",
    "1) Pandas\n",
    "2) NumPy\n",
    "3) Matplotlib\n",
    "4) Scikit-learn"
   ]
  },
  {
   "cell_type": "markdown",
   "id": "b7ef14fe-0e01-4617-89f6-662db59f5c22",
   "metadata": {},
   "source": [
    "|Data Science Tools|\n",
    "|------------------|\n",
    "|Jupyter Notebook  |\n",
    "|R-Studio          |\n",
    "|VS Code           |\n",
    "|------------------|\n",
    "\n"
   ]
  },
  {
   "cell_type": "markdown",
   "id": "c2c20dd3-82ba-48b5-8844-09902b58321b",
   "metadata": {},
   "source": [
    "### Below are a few examples of evaluating arithmetic expressions in Python:\n"
   ]
  },
  {
   "cell_type": "code",
   "execution_count": 13,
   "id": "21cc083e-29cb-4b79-bebc-c152f74d2d79",
   "metadata": {},
   "outputs": [
    {
     "data": {
      "text/plain": [
       "17"
      ]
     },
     "execution_count": 13,
     "metadata": {},
     "output_type": "execute_result"
    }
   ],
   "source": [
    "# This is a simple arithmetic expression to multiply then add integers:\n",
    "(3*4)+5"
   ]
  },
  {
   "cell_type": "code",
   "execution_count": 15,
   "id": "0b0d1a2f-38c8-4898-92f3-8133c269494f",
   "metadata": {},
   "outputs": [
    {
     "name": "stdout",
     "output_type": "stream",
     "text": [
      "3.3333333333333335\n"
     ]
    }
   ],
   "source": [
    "# This will convert 200 minutes to hours by dividing by 60\n",
    "minutes = 200\n",
    "hours = minutes/60\n",
    "print(hours)"
   ]
  },
  {
   "cell_type": "markdown",
   "id": "2152d9f9-3c00-4d93-a5e8-b04700f2c88f",
   "metadata": {},
   "source": [
    "## Author\n",
    "Jim Smith"
   ]
  },
  {
   "cell_type": "code",
   "execution_count": null,
   "id": "112aba2a-26cb-4c73-8cc3-4e0ea2c60988",
   "metadata": {},
   "outputs": [],
   "source": []
  }
 ],
 "metadata": {
  "kernelspec": {
   "display_name": "Python 3 (ipykernel)",
   "language": "python",
   "name": "python3"
  },
  "language_info": {
   "codemirror_mode": {
    "name": "ipython",
    "version": 3
   },
   "file_extension": ".py",
   "mimetype": "text/x-python",
   "name": "python",
   "nbconvert_exporter": "python",
   "pygments_lexer": "ipython3",
   "version": "3.11.4"
  }
 },
 "nbformat": 4,
 "nbformat_minor": 5
}
